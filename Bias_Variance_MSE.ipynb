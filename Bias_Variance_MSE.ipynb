{
  "nbformat": 4,
  "nbformat_minor": 0,
  "metadata": {
    "kernelspec": {
      "display_name": "Python 3",
      "language": "python",
      "name": "python3"
    },
    "language_info": {
      "codemirror_mode": {
        "name": "ipython",
        "version": 3
      },
      "file_extension": ".py",
      "mimetype": "text/x-python",
      "name": "python",
      "nbconvert_exporter": "python",
      "pygments_lexer": "ipython3",
      "version": "3.7.4"
    },
    "colab": {
      "name": "Bias_Variance_MSE.ipynb",
      "provenance": [],
      "collapsed_sections": [],
      "include_colab_link": true
    }
  },
  "cells": [
    {
      "cell_type": "markdown",
      "metadata": {
        "id": "view-in-github",
        "colab_type": "text"
      },
      "source": [
        "<a href=\"https://colab.research.google.com/github/DarshanPatel0919/Machine-Learning/blob/master/Bias_Variance_MSE.ipynb\" target=\"_parent\"><img src=\"https://colab.research.google.com/assets/colab-badge.svg\" alt=\"Open In Colab\"/></a>"
      ]
    },
    {
      "cell_type": "code",
      "metadata": {
        "id": "BDvkNWNOeWtc",
        "colab_type": "code",
        "colab": {}
      },
      "source": [
        "import pandas as pd\n",
        "import pylab as plt\n",
        "import numpy as np\n",
        "import random as rd"
      ],
      "execution_count": 0,
      "outputs": []
    },
    {
      "cell_type": "code",
      "metadata": {
        "id": "xIbshXGCeWtj",
        "colab_type": "code",
        "colab": {}
      },
      "source": [
        "def f(x):\n",
        "    return x + 2 * np.sin (1.5 * x)\n",
        "def h(t):\n",
        "    return np.sum((ye-np.matmul(xx,t))**2)/xx.shape[0]\n",
        "def fh(t):\n",
        "    return np.matmul(xx,t)"
      ],
      "execution_count": 0,
      "outputs": []
    },
    {
      "cell_type": "code",
      "metadata": {
        "id": "9CvKrRILeWtq",
        "colab_type": "code",
        "colab": {}
      },
      "source": [
        "k = 2\n",
        "l = int(((2*np.pi)/(1.5))*k)\n",
        "samples = 1000\n",
        "exp = 1000\n",
        "x = np.linspace(0,l,samples)\n",
        "y = f(x)"
      ],
      "execution_count": 0,
      "outputs": []
    },
    {
      "cell_type": "code",
      "metadata": {
        "id": "gzBeW9wBeWt7",
        "colab_type": "code",
        "colab": {
          "base_uri": "https://localhost:8080/",
          "height": 1000
        },
        "outputId": "7ad800ec-9ceb-4f66-9fa0-92bfd657d8f3"
      },
      "source": [
        "mu=0\n",
        "sig=4\n",
        "std=np.sqrt(sig)\n",
        "xx= np.array([[1] for i in x])\n",
        "complexity=12\n",
        "\n",
        "\n",
        "order = np.array([i for i in range(1,complexity)])\n",
        "\n",
        "MSE=[]\n",
        "for l in range(1,complexity):\n",
        "    hexp = np.array([[] for i in range(samples)])\n",
        "    yye = np.array([[] for i in range(samples)])\n",
        "    joiner = (np.array([[i**l] for i in x]))\n",
        "    xx = np.concatenate((xx,joiner),axis=1)\n",
        "    for ee in range(exp):\n",
        "        e = std*np.random.randn(samples) + mu\n",
        "        ye = y + e\n",
        "        yy = np.transpose(np.array([ye]))\n",
        "        theta = np.matmul(np.matmul(np.linalg.inv(np.matmul(np.transpose(xx),xx)),np.transpose(xx)),yy)\n",
        "        hexp = np.concatenate((hexp,fh(theta)),axis=1)\n",
        "        yye = np.concatenate((yye,yy),axis=1)\n",
        "        \n",
        "        \n",
        "    Fh = hexp   #ith Column will have predicted function values of ith iteration\n",
        "    Ye = yye\n",
        "    f = np.array(y)\n",
        "    efh = np.reshape(np.mean(Fh,axis=1),(samples,1))\n",
        "    Y = np.reshape(np.mean(Ye,axis=1),(samples,1))\n",
        "\n",
        "    bias = np.mean(np.absolute((efh-Y)))\n",
        "    bias2 = bias**2\n",
        "    mse = np.mean(np.mean((Fh - Y)**2,axis=1))\n",
        "    var = np.mean(np.mean((Fh - efh)**2,axis=1))\n",
        "    MSE.append(mse)\n",
        "    print(l)\n",
        "    print('bias^2 =',bias2)\n",
        "    print('var =',var)\n",
        "    print('Total error =',bias2+var)\n",
        "    print('mse =',mse)\n",
        "    print('Irreducible error =',bias2+var-mse)\n",
        "    #plt.plot(x,y,label='y')\n",
        "    #plt.plot(x,efh,label='f^')\n",
        "    #plt.legend(loc='best')\n",
        "    print('\\n\\n')\n",
        "    #plt.show()\n",
        "    \n"
      ],
      "execution_count": 19,
      "outputs": [
        {
          "output_type": "stream",
          "text": [
            "1\n",
            "bias^2 = 1.3209685846504\n",
            "var = 0.008057388256809241\n",
            "Total error = 1.3290259729072094\n",
            "mse = 1.771289390329815\n",
            "Irreducible error = -0.44226341742260566\n",
            "\n",
            "\n",
            "\n",
            "2\n",
            "bias^2 = 1.313247078785898\n",
            "var = 0.01211213346740751\n",
            "Total error = 1.3253592122533056\n",
            "mse = 1.7766269022557681\n",
            "Irreducible error = -0.4512676900024626\n",
            "\n",
            "\n",
            "\n",
            "3\n",
            "bias^2 = 1.0082503599134278\n",
            "var = 0.016343895115208944\n",
            "Total error = 1.0245942550286367\n",
            "mse = 1.3051227529432274\n",
            "Irreducible error = -0.2805284979145908\n",
            "\n",
            "\n",
            "\n",
            "4\n",
            "bias^2 = 0.9276108115661434\n",
            "var = 0.02043672193000188\n",
            "Total error = 0.9480475334961453\n",
            "mse = 1.1995629280646523\n",
            "Irreducible error = -0.2515153945685069\n",
            "\n",
            "\n",
            "\n",
            "5\n",
            "bias^2 = 0.10978821840064792\n",
            "var = 0.023901950899805804\n",
            "Total error = 0.13369016930045374\n",
            "mse = 0.17859530841780694\n",
            "Irreducible error = -0.04490513911735319\n",
            "\n",
            "\n",
            "\n",
            "6\n",
            "bias^2 = 0.09179626547163895\n",
            "var = 0.028542964544806194\n",
            "Total error = 0.12033923001644514\n",
            "mse = 0.14734881027391752\n",
            "Irreducible error = -0.027009580257472382\n",
            "\n",
            "\n",
            "\n",
            "7\n",
            "bias^2 = 0.005281802553320945\n",
            "var = 0.031821731531808894\n",
            "Total error = 0.03710353408512984\n",
            "mse = 0.040211344849971\n",
            "Irreducible error = -0.003107810764841158\n",
            "\n",
            "\n",
            "\n",
            "8\n",
            "bias^2 = 0.004503877227970824\n",
            "var = 0.03607221341631773\n",
            "Total error = 0.040576090644288555\n",
            "mse = 0.042975227350914566\n",
            "Irreducible error = -0.002399136706626011\n",
            "\n",
            "\n",
            "\n",
            "9\n",
            "bias^2 = 0.0022672568715011326\n",
            "var = 0.04009864815751658\n",
            "Total error = 0.04236590502901771\n",
            "mse = 0.04381261900658956\n",
            "Irreducible error = -0.001446713977571852\n",
            "\n",
            "\n",
            "\n",
            "10\n",
            "bias^2 = 0.0032160752774171614\n",
            "var = 0.04388220041546755\n",
            "Total error = 0.04709827569288472\n",
            "mse = 0.04888833862581825\n",
            "Irreducible error = -0.001790062932933531\n",
            "\n",
            "\n",
            "\n",
            "11\n",
            "bias^2 = 0.0278969029238554\n",
            "var = 0.04786263854652696\n",
            "Total error = 0.07575954147038236\n",
            "mse = 0.11898250776329036\n",
            "Irreducible error = -0.043222966292908005\n",
            "\n",
            "\n",
            "\n"
          ],
          "name": "stdout"
        }
      ]
    },
    {
      "cell_type": "code",
      "metadata": {
        "id": "mzI53TIseWt_",
        "colab_type": "code",
        "colab": {
          "base_uri": "https://localhost:8080/",
          "height": 282
        },
        "outputId": "d1bcf579-2748-410f-9185-c0570e120c9c"
      },
      "source": [
        "plt.plot(order,MSE)"
      ],
      "execution_count": 18,
      "outputs": [
        {
          "output_type": "execute_result",
          "data": {
            "text/plain": [
              "[<matplotlib.lines.Line2D at 0x7f0680fe3400>]"
            ]
          },
          "metadata": {
            "tags": []
          },
          "execution_count": 18
        },
        {
          "output_type": "display_data",
          "data": {
            "image/png": "[encoded data removed]",
            "text/plain": [
              "<Figure size 432x288 with 1 Axes>"
            ]
          },
          "metadata": {
            "tags": []
          }
        }
      ]
    },
    {
      "cell_type": "code",
      "metadata": {
        "id": "TPZy0ZcCzI0X",
        "colab_type": "code",
        "colab": {}
      },
      "source": [
        "y = np.array([[1 ,1],[4,4]])\n",
        "x = np.array([1 ,1])\n",
        "np.mean((y-x)**2,axis=0)"
      ],
      "execution_count": 0,
      "outputs": []
    },
    {
      "cell_type": "code",
      "metadata": {
        "id": "Q1V4eqQHkrAt",
        "colab_type": "code",
        "colab": {}
      },
      "source": [
        ""
      ],
      "execution_count": 0,
      "outputs": []
    }
  ]
}