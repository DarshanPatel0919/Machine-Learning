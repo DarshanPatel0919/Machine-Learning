{
  "nbformat": 4,
  "nbformat_minor": 0,
  "metadata": {
    "kernelspec": {
      "display_name": "Python 3",
      "language": "python",
      "name": "python3"
    },
    "language_info": {
      "codemirror_mode": {
        "name": "ipython",
        "version": 3
      },
      "file_extension": ".py",
      "mimetype": "text/x-python",
      "name": "python",
      "nbconvert_exporter": "python",
      "pygments_lexer": "ipython3",
      "version": "3.7.3"
    },
    "colab": {
      "name": "Logistic_Regression.ipynb",
      "provenance": [],
      "collapsed_sections": [],
      "include_colab_link": true
    }
  },
  "cells": [
    {
      "cell_type": "markdown",
      "metadata": {
        "id": "view-in-github",
        "colab_type": "text"
      },
      "source": [
        "<a href=\"https://colab.research.google.com/github/DarshanPatel0919/Machine-Learning/blob/master/Logistic_Regression.ipynb\" target=\"_parent\"><img src=\"https://colab.research.google.com/assets/colab-badge.svg\" alt=\"Open In Colab\"/></a>"
      ]
    },
    {
      "cell_type": "code",
      "metadata": {
        "id": "OmGYGkv9c696",
        "colab_type": "code",
        "outputId": "f7e537cb-968e-4cd7-cdc7-81662ae5f03f",
        "colab": {}
      },
      "source": [
        "################## Q.1 ####################\n",
        "\n",
        "import numpy as np\n",
        "import pylab as plt\n",
        "import pandas as pd\n",
        "import random as rd\n",
        "examples=2\n",
        "d=[pd.read_csv('data'+str(ex+1)+'.csv') for ex in range(examples)]\n",
        "x,y=[np.array(list(zip(d[ex]['x1'],d[ex]['x2']))) for ex in range(examples)],[np.array(d[ex]['y']) for ex in range(examples)]\n",
        "\n",
        "for ex in range(examples):#examples\n",
        "    xe=np.array(x[ex])\n",
        "    ye=np.array(y[ex])\n",
        "    cls=(x[ex].shape)[1]\n",
        "    for c in range(cls):\n",
        "        xe[:,c]=(xe[:,c]-np.mean(xe[:,c]))/np.std(xe[:,c])    \n",
        "    color=['r*','b^']\n",
        "    my_label=['y='+str(i) for i in range(cls)]\n",
        "    for i in range(len(xe)):\n",
        "        plt.plot(xe[i][0],xe[i][1],color[ye[i]],label=my_label[y[ex][i]])\n",
        "        my_label[y[ex][i]]='_nolegend_'\n",
        "    plt.legend(loc='best')\n",
        "    plt.xlabel('x1')\n",
        "    plt.ylabel('x2')\n",
        "    plt.title('data'+str(ex+1))\n",
        "    plt.show()\n",
        "\n",
        "    \n"
      ],
      "execution_count": 0,
      "outputs": [
        {
          "output_type": "display_data",
          "data": {
            "image/png": "[encoded data removed]",
            "text/plain": [
              "<Figure size 432x288 with 1 Axes>"
            ]
          },
          "metadata": {
            "tags": [],
            "needs_background": "light"
          }
        },
        {
          "output_type": "display_data",
          "data": {
            "image/png": "[encoded data removed]",
            "text/plain": [
              "<Figure size 432x288 with 1 Axes>"
            ]
          },
          "metadata": {
            "tags": [],
            "needs_background": "light"
          }
        }
      ]
    },
    {
      "cell_type": "code",
      "metadata": {
        "id": "cCXTNY2Oc6-G",
        "colab_type": "code",
        "outputId": "4454baf1-9a99-4f7f-b469-f55abdd7db65",
        "colab": {}
      },
      "source": [
        "################## Q.2a ####################\n",
        "\n",
        "import numpy as np\n",
        "import pylab as plt\n",
        "import pandas as pd\n",
        "import random as rd\n",
        "dt=1e-9\n",
        "\n",
        "def h(t,x):\n",
        "    return 1/(1+(np.exp(-np.matmul(t,np.transpose(x)))))\n",
        "\n",
        "def gradient_st(t0,n,a,x,y):\n",
        "    c=0\n",
        "    while n:\n",
        "        j = rd.randint(0,len(x)-1)\n",
        "        t1 = t0 - (a*np.array([-x[j][i]*(y[j]-h(t0,x[j])) for i in range(len(t0))]))\n",
        "        c+=1\n",
        "        if abs(np.sum(t1-t0))<1e-100:\n",
        "            print(\"Total iteraions = \",c)\n",
        "            return t1#(t1,c)\n",
        "        t0 = t1\n",
        "        n-=1\n",
        "    print(\"Total iteraions = \",c)\n",
        "    return t0#(t0,c)\n",
        "\n",
        "\n",
        "d=pd.read_csv('data1.csv')\n",
        "td=d.sample(frac=0.9) \n",
        "dd=d.drop(td.index)\n",
        "\n",
        "\n",
        "tx=np.transpose(np.array([td['x1'],td['x2']]))\n",
        "dx=np.transpose(np.array([dd['x1'],dd['x2']]))\n",
        "\n",
        "ty=np.transpose(np.array([td['y']]))\n",
        "dy=np.transpose(np.array([dd['y']]))\n",
        "\n",
        "tx = (tx - np.mean(tx))/np.std(tx)\n",
        "dx = (dx - np.mean(dx))/np.std(dx)\n",
        "\n",
        "one=np.transpose(np.array([[1 for i in range(len(tx))]]))\n",
        "tx=np.concatenate((one,tx),axis=1)\n",
        "one=np.transpose(np.array([[1 for i in range(len(dx))]]))\n",
        "dx=np.concatenate((one,dx),axis=1)\n",
        "\n",
        "clas=2\n",
        "m=tx.shape[0]\n",
        "\n",
        "#Visualizing Graph\n",
        "color=['b+','g+']\n",
        "my_label=['y = '+str(i) for i in range(clas)]\n",
        "for i in range(m):\n",
        "    plt.plot(tx[i][1],tx[i][2],color[ty[i,0]],label=my_label[ty[i,0]])\n",
        "    my_label[ty[i,0]]='_nolegend_'\n",
        "\n",
        "plt.xlabel('x1')\n",
        "plt.ylabel('x2')\n",
        "plt.title('data1')\n",
        "\n",
        "#Stochastic Gradient Descent:\n",
        "t0=np.array([5]*3)\n",
        "a=0.01\n",
        "n=100000                 \n",
        "\n",
        "th = gradient_st(np.copy(t0),n,a,tx,ty[:,0])\n",
        "t_best=np.array([th])\n",
        "\n",
        "t=np.linspace(-2,2,100)\n",
        "y=-(th[1]*t+th[0])/th[2]\n",
        "plt.plot(t,y,'y',label='Boundary')\n",
        "\n",
        "\n",
        "e=0\n",
        "color=['b^','g^']\n",
        "\n",
        "\n",
        "for pp in range(len(dx)):\n",
        "    dp=np.array([dx[pp]])\n",
        "    ht=np.matmul(t_best,np.transpose(dp))\n",
        "    yp=1 if dy[pp,0]==1 else -1 \n",
        "    if ht*yp<0 :\n",
        "        plt.plot(dx[pp][1],dx[pp][2],'r^')\n",
        "        e+=1\n",
        "    else:\n",
        "        plt.plot(dx[pp][1],dx[pp][2],color[dy[pp,0]])\n",
        "plt.legend(loc='best')\n",
        "plt.show()\n",
        "print(r\"Total Errors in 10% examples: \",(e*100)/dx.shape[0],\"%\")\n",
        "\n",
        "for pp in range(len(tx)):\n",
        "    dp=np.array([tx[pp]])\n",
        "    ht=np.matmul(t_best,np.transpose(dp))\n",
        "    yp=1 if ty[pp]==1 else -1 \n",
        "    if ht*yp<0 :e+=1\n",
        "print(r\"Total Errors in all examples: \",(e*100)/(dx.shape[0]+tx.shape[0]),\"%\")\n"
      ],
      "execution_count": 0,
      "outputs": [
        {
          "output_type": "stream",
          "text": [
            "Total iteraions =  100000\n"
          ],
          "name": "stdout"
        },
        {
          "output_type": "display_data",
          "data": {
            "image/png": "[encoded data removed]",
            "text/plain": [
              "<Figure size 432x288 with 1 Axes>"
            ]
          },
          "metadata": {
            "tags": [],
            "needs_background": "light"
          }
        },
        {
          "output_type": "stream",
          "text": [
            "Total Errors in 10% examples:  10.0 %\n",
            "Total Errors in all examples:  11.0 %\n"
          ],
          "name": "stdout"
        }
      ]
    },
    {
      "cell_type": "code",
      "metadata": {
        "id": "09RlQh8mc6-K",
        "colab_type": "code",
        "outputId": "31a64248-a5ef-4197-f0bc-dc83aa6f64de",
        "colab": {}
      },
      "source": [
        "################## Q.2b ####################\n",
        "\n",
        "import numpy as np\n",
        "import pylab as plt\n",
        "import pandas as pd\n",
        "import random as rd\n",
        "dt=1e-9\n",
        "\n",
        "def h(t,x):\n",
        "    return 1/(1+(np.exp(-np.matmul(t,np.transpose(x)))))\n",
        "\n",
        "def gradient_st(t0,n,a,x,y):\n",
        "    c=0\n",
        "    while n:\n",
        "        j = rd.randint(0,len(x)-1)\n",
        "        t1 = t0 - (a*np.array([-x[j][i]*(y[j]-h(t0,x[j])) for i in range(len(t0))]))\n",
        "        c+=1\n",
        "        if abs(np.sum(t1-t0))<1e-100:\n",
        "            print(\"Total iteraions = \",c)\n",
        "            return t1#(t1,c)\n",
        "        t0 = t1\n",
        "        n-=1\n",
        "    print(\"Total iteraions = \",c)\n",
        "    return t0#(t0,c)\n",
        "\n",
        "\n",
        "d=pd.read_csv('data2.csv')\n",
        "td=d.sample(frac=0.9) \n",
        "dd=d.drop(td.index)\n",
        "\n",
        "tx=np.transpose(np.array([td['x1'],td['x2']]))\n",
        "dx=np.transpose(np.array([dd['x1'],dd['x2']]))\n",
        "\n",
        "tx = (tx - np.mean(tx))/np.std(tx)\n",
        "dx = (dx - np.mean(dx))/np.std(dx)\n",
        "\n",
        "tx=np.transpose(np.array([tx[:,0],tx[:,1],tx[:,0]**2,tx[:,1]**2,np.multiply(tx[:,0],tx[:,1])]))\n",
        "dx=np.transpose(np.array([dx[:,0],dx[:,1],dx[:,0]**2,dx[:,1]**2,np.multiply(dx[:,0],dx[:,1])]))\n",
        "\n",
        "ty=np.transpose(np.array([td['y']]))\n",
        "dy=np.transpose(np.array([dd['y']]))\n",
        "\n",
        "\n",
        "one=np.transpose(np.array([[1 for i in range(len(tx))]]))\n",
        "tx=np.concatenate((one,tx),axis=1)\n",
        "one=np.transpose(np.array([[1 for i in range(len(dx))]]))\n",
        "dx=np.concatenate((one,dx),axis=1)\n",
        "\n",
        "clas=2\n",
        "m=tx.shape[0]\n",
        "\n",
        "#Visualizing Graph\n",
        "color=['b+','g+']\n",
        "my_label=['y = '+str(i) for i in range(clas)]\n",
        "for i in range(m):\n",
        "    plt.plot(tx[i][1],tx[i][2],color[ty[i,0]],label=my_label[ty[i,0]])\n",
        "    my_label[ty[i,0]]='_nolegend_'\n",
        "\n",
        "plt.xlabel('x1')\n",
        "plt.ylabel('x2')\n",
        "plt.title('data1')\n",
        "\n",
        "#Stochastic Gradient Descent:\n",
        "t0=np.array([0.5]*6)\n",
        "a=0.01\n",
        "n=1e5                  \n",
        "\n",
        "th = gradient_st(np.copy(t0),n,a,tx,ty[:,0])\n",
        "t_best=np.array([th])\n",
        "print(th)\n",
        "t=np.linspace(-3,3,5000)\n",
        "\n",
        "a = th[4]\n",
        "b = th[2]+th[5]*t\n",
        "c = th[0]+th[1]*t+th[3]*(t**2) \n",
        "d = (b**2 - 4*a*c)\n",
        "\n",
        "d = d**0.5\n",
        "\n",
        "y = (-b + d)/(2*a)\n",
        "plt.plot(t,y,'y',label='Boundary')\n",
        "y = (-b - d)/(2*a)\n",
        "plt.plot(t,y,'y')\n",
        "\n",
        "e=0\n",
        "color=['b^','g^']\n",
        "for pp in range(len(dx)):\n",
        "    dp=np.array([dx[pp]])\n",
        "    ht=np.matmul(t_best,np.transpose(dp))\n",
        "    yp=1 if dy[pp,0]==1 else -1 \n",
        "    if ht*yp<0 :\n",
        "        plt.plot(dx[pp][1],dx[pp][2],'r^')\n",
        "        e+=1\n",
        "    else:\n",
        "        plt.plot(dx[pp][1],dx[pp][2],color[dy[pp,0]])\n",
        "plt.legend(loc='best')\n",
        "plt.show()\n",
        "print(r\"Total Errors in 10% examples: \",(e*100)/dx.shape[0],\"%\")\n",
        "\n",
        "for pp in range(len(tx)):\n",
        "    dp=np.array([tx[pp]])\n",
        "    ht=np.matmul(t_best,np.transpose(dp))\n",
        "    yp=1 if ty[pp]==1 else -1 \n",
        "    if ht*yp<0 :e+=1\n",
        "print(r\"Total Errors in all examples: \",(e*100)/(dx.shape[0]+tx.shape[0]),\"%\")"
      ],
      "execution_count": 0,
      "outputs": [
        {
          "output_type": "stream",
          "text": [
            "Total iteraions =  100000\n",
            "[ 5.73522868 -0.24133649  0.28956026 -3.22516221 -3.15659704 -1.99301095]\n"
          ],
          "name": "stdout"
        },
        {
          "output_type": "stream",
          "text": [
            "C:\\Users\\DARSHAN PATEL\\Anaconda3\\lib\\site-packages\\ipykernel_launcher.py:78: RuntimeWarning: invalid value encountered in sqrt\n"
          ],
          "name": "stderr"
        },
        {
          "output_type": "display_data",
          "data": {
            "image/png": "[encoded data removed]",
            "text/plain": [
              "<Figure size 432x288 with 1 Axes>"
            ]
          },
          "metadata": {
            "tags": [],
            "needs_background": "light"
          }
        },
        {
          "output_type": "stream",
          "text": [
            "Total Errors in 10% examples:  0.0 %\n",
            "Total Errors in all examples:  13.559322033898304 %\n"
          ],
          "name": "stdout"
        }
      ]
    },
    {
      "cell_type": "code",
      "metadata": {
        "id": "O_dYN6o2c6-R",
        "colab_type": "code",
        "outputId": "b7baf65f-2616-4b09-87db-25d69765a361",
        "colab": {}
      },
      "source": [
        "################## Q.2b-extra ####################\n",
        "\n",
        "import numpy as np\n",
        "import pylab as plt\n",
        "import pandas as pd\n",
        "import random as rd\n",
        "dt=1e-9\n",
        "\n",
        "def h(t,x):\n",
        "    return 1/(1+(np.exp(-np.matmul(t,np.transpose(x)))))\n",
        "\n",
        "def gradient_st(t0,n,a,x,y):\n",
        "    c=0\n",
        "    while n:\n",
        "        j = rd.randint(0,len(x)-1)\n",
        "        t1 = t0 - (a*np.array([-x[j][i]*(y[j]-h(t0,x[j])) for i in range(len(t0))]))\n",
        "        c+=1\n",
        "        if abs(np.sum(t1-t0))<1e-100:\n",
        "            print(\"Total iteraions = \",c)\n",
        "            return t1#(t1,c)\n",
        "        t0 = t1\n",
        "        n-=1\n",
        "    print(\"Total iteraions = \",c)\n",
        "    return t0#(t0,c)\n",
        "\n",
        "\n",
        "d=pd.read_csv('data2.csv')\n",
        "td=d.sample(frac=0.9) \n",
        "dd=d.drop(td.index)\n",
        "\n",
        "tx=np.transpose(np.array([td['x1'],td['x2'],td['x1']**2,td['x2']**2,np.multiply(td['x1'],td['x2']),td['x1']**3,td['x2']**3,np.multiply(td['x1'],td['x2']**2),np.multiply(td['x2'],td['x1']**2)]))\n",
        "dx=np.transpose(np.array([dd['x1'],dd['x2'],dd['x1']**2,dd['x2']**2,np.multiply(dd['x1'],dd['x2']),dd['x1']**3,dd['x2']**3,np.multiply(dd['x1'],dd['x2']**2),np.multiply(dd['x2'],dd['x1']**2)]))\n",
        "\n",
        "ty=np.transpose(np.array([td['y']]))\n",
        "dy=np.transpose(np.array([dd['y']]))\n",
        "\n",
        "#tx = (tx - np.mean(tx))/np.std(tx)\n",
        "#dx = (dx - np.mean(dx))/np.std(dx)\n",
        "\n",
        "one=np.transpose(np.array([[1 for i in range(len(tx))]]))\n",
        "tx=np.concatenate((one,tx),axis=1)\n",
        "one=np.transpose(np.array([[1 for i in range(len(dx))]]))\n",
        "dx=np.concatenate((one,dx),axis=1)\n",
        "\n",
        "clas=2\n",
        "m=tx.shape[0]\n",
        "\n",
        "#Visualizing Graph\n",
        "color=['b+','g+']\n",
        "my_label=['y = '+str(i) for i in range(clas)]\n",
        "for i in range(m):\n",
        "    plt.plot(tx[i][1],tx[i][2],color[ty[i,0]],label=my_label[ty[i,0]])\n",
        "    my_label[ty[i,0]]='_nolegend_'\n",
        "\n",
        "plt.xlabel('x1')\n",
        "plt.ylabel('x2')\n",
        "plt.title('data1')\n",
        "\n",
        "#Stochastic Gradient Descent:\n",
        "t0=np.array([0.5]*10)\n",
        "a=0.01\n",
        "n=70000                  \n",
        "\n",
        "th = gradient_st(np.copy(t0),n,a,tx,ty[:,0])\n",
        "t_best=np.array([th])\n",
        "\n",
        "#t=np.linspace(-3,3,5000)\n",
        "\n",
        "#a = th[4]\n",
        "#b = th[2]+th[5]*t\n",
        "#c = th[0]+th[1]*t+th[3]*(t**2) \n",
        "#d = (b**2 - 4*a*c)\n",
        "#d = d**0.5\n",
        "\n",
        "#y = (-b + d)/(2*a)\n",
        "#plt.plot(t,y,'y',label='Boundary')\n",
        "#y = (-b - d)/(2*a)\n",
        "#plt.plot(t,y,'y')\n",
        "\n",
        "e=0\n",
        "color=['b^','g^']\n",
        "for pp in range(len(dx)):\n",
        "    dp=np.array([dx[pp]])\n",
        "    ht=np.matmul(t_best,np.transpose(dp))\n",
        "    yp=1 if dy[pp,0]==1 else -1 \n",
        "    if ht*yp<0 :\n",
        "        plt.plot(dx[pp][1],dx[pp][2],'r^')\n",
        "        e+=1\n",
        "    else:\n",
        "        plt.plot(dx[pp][1],dx[pp][2],color[dy[pp,0]])\n",
        "plt.legend(loc='best')\n",
        "plt.show()\n",
        "print(r\"Total Errors in 10% examples: \",(e*100)/dx.shape[0],\"%\")\n",
        "\n",
        "for pp in range(len(tx)):\n",
        "    dp=np.array([tx[pp]])\n",
        "    ht=np.matmul(t_best,np.transpose(dp))\n",
        "    yp=1 if ty[pp]==1 else -1 \n",
        "    if ht*yp<0 :e+=1\n",
        "print(r\"Total Errors in all examples: \",(e*100)/(dx.shape[0]+tx.shape[0]),\"%\")"
      ],
      "execution_count": 0,
      "outputs": [
        {
          "output_type": "stream",
          "text": [
            "Total iteraions =  70000\n"
          ],
          "name": "stdout"
        },
        {
          "output_type": "display_data",
          "data": {
            "image/png": "[encoded data removed]",
            "text/plain": [
              "<Figure size 432x288 with 1 Axes>"
            ]
          },
          "metadata": {
            "tags": [],
            "needs_background": "light"
          }
        },
        {
          "output_type": "stream",
          "text": [
            "Total Errors in 10% examples:  16.666666666666668 %\n",
            "Total Errors in all examples:  16.949152542372882 %\n"
          ],
          "name": "stdout"
        }
      ]
    }
  ]
}